{
 "cells": [
  {
   "cell_type": "code",
   "execution_count": null,
   "metadata": {},
   "outputs": [],
   "source": [
    "import csv\n",
    "f = open('seoul.csv', encoding='cp949')\n",
    "data = csv.reader(f)\n",
    "header = next(data)\n",
    "max_temp = -999\n",
    "max_date = ''\n",
    "for row in data :\n",
    "    if row[4] == '' :\n",
    "        row[4] = -999\n",
    "    row[4] = float(row[4])\n",
    "    if max_temp < row[4] :\n",
    "        max_date = row[2]\n",
    "        max_temp = row[4]\n",
    "f.close()\n",
    "print('max_date : ', max_date, ' max_temp : ', max_temp)"
   ]
  }
 ],
 "metadata": {
  "kernelspec": {
   "display_name": "Python 3",
   "language": "python",
   "name": "python3"
  },
  "language_info": {
   "codemirror_mode": {
    "name": "ipython",
    "version": 3
   },
   "file_extension": ".py",
   "mimetype": "text/x-python",
   "name": "python",
   "nbconvert_exporter": "python",
   "pygments_lexer": "ipython3",
   "version": "3.6.9"
  }
 },
 "nbformat": 4,
 "nbformat_minor": 4
}
