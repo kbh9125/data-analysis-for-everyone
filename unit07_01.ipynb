{
 "cells": [
  {
   "cell_type": "code",
   "execution_count": null,
   "metadata": {},
   "outputs": [],
   "source": [
    "import csv\n",
    "f = open('age.csv',encoding = 'cp949')\n",
    "data = csv.reader(f)\n",
    "\n",
    "for row in data :\n",
    "    print(row)"
   ]
  },
  {
   "cell_type": "code",
   "execution_count": null,
   "metadata": {},
   "outputs": [],
   "source": [
    "import csv\n",
    "f = open('age.csv',encoding = 'cp949')\n",
    "data = csv.reader(f)\n",
    "\n",
    "for row in data :\n",
    "    if '서울특별시 구로구 신도림동(1153051000)' == row[0] :\n",
    "        print(row)"
   ]
  },
  {
   "cell_type": "code",
   "execution_count": null,
   "metadata": {},
   "outputs": [],
   "source": [
    "print('신도림' in '서울특별시 구로구 신도림동(1153051000)')\n",
    "print('1153' in '서울특별시 구로구 신도림동(1153051000)')\n",
    "print('()' in '서울특별시 구로구 신도림동(1153051000)')"
   ]
  },
  {
   "cell_type": "code",
   "execution_count": null,
   "metadata": {},
   "outputs": [],
   "source": [
    "import csv\n",
    "f = open('age.csv',encoding = 'cp949')\n",
    "data = csv.reader(f)\n",
    "\n",
    "for row in data :\n",
    "    if '신도림동' in row[0] :\n",
    "        print(row)"
   ]
  },
  {
   "cell_type": "code",
   "execution_count": null,
   "metadata": {},
   "outputs": [],
   "source": [
    "import csv\n",
    "f = open('age.csv',encoding = 'cp949')\n",
    "data = csv.reader(f)\n",
    "\n",
    "for row in data :\n",
    "    if '신도림동' in row[0] :\n",
    "        for i in row[3:] :\n",
    "            print(i)"
   ]
  },
  {
   "cell_type": "code",
   "execution_count": null,
   "metadata": {},
   "outputs": [],
   "source": [
    "import csv\n",
    "f = open('age.csv',encoding = 'cp949')\n",
    "data = csv.reader(f)\n",
    "\n",
    "result = []\n",
    "\n",
    "for row in data :\n",
    "    if '신도림동' in row[0] :\n",
    "        for i in row[3:] :\n",
    "            result.append(int(i))\n",
    "            \n",
    "print(result)\n",
    "\n",
    "import matplotlib.pyplot as plt\n",
    "\n",
    "plt.style.use('ggplot')\n",
    "plt.rc('font', family = 'NanumGothicCoding')\n",
    "plt.title('신도림동 지역의 인구 구조')\n",
    "plt.plot(result)\n",
    "plt.show()"
   ]
  }
 ],
 "metadata": {
  "kernelspec": {
   "display_name": "Python 3",
   "language": "python",
   "name": "python3"
  },
  "language_info": {
   "codemirror_mode": {
    "name": "ipython",
    "version": 3
   },
   "file_extension": ".py",
   "mimetype": "text/x-python",
   "name": "python",
   "nbconvert_exporter": "python",
   "pygments_lexer": "ipython3",
   "version": "3.6.9"
  }
 },
 "nbformat": 4,
 "nbformat_minor": 4
}
