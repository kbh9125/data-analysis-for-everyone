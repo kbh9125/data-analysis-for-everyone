{
 "cells": [
  {
   "cell_type": "code",
   "execution_count": null,
   "metadata": {},
   "outputs": [],
   "source": [
    "import csv\n",
    "f = open('seoul.csv','r',encoding='cp949')\n",
    "data = csv.reader(f, delimiter=',')\n",
    "\n",
    "for row in data :\n",
    "#    print(row[2])\n",
    "    print(row)\n",
    "f.close()"
   ]
  },
  {
   "cell_type": "code",
   "execution_count": null,
   "metadata": {},
   "outputs": [],
   "source": [
    "import csv\n",
    "f = open('seoul.csv','r',encoding='cp949')\n",
    "data = csv.reader(f, delimiter=',')\n",
    "next(data)\n",
    "\n",
    "for row in data :\n",
    "#    print(row[2])\n",
    "    if row[2].split('-')[1] == '02' and row[2].split('-')[2] == '14' :\n",
    "        print(row)\n",
    "#    print(row[2].split('-')[1])\n",
    "f.close()"
   ]
  },
  {
   "cell_type": "code",
   "execution_count": null,
   "metadata": {},
   "outputs": [],
   "source": [
    "import csv\n",
    "f = open('seoul.csv','r',encoding='cp949')\n",
    "data = csv.reader(f, delimiter=',')\n",
    "next(data)\n",
    "result = []\n",
    "\n",
    "for row in data :\n",
    "    if row[4] != '' :\n",
    "        result.append(float(row[4]))\n",
    "        \n",
    "print('length: ', len(result))\n",
    "print(result)\n",
    "\n",
    "f.close()"
   ]
  },
  {
   "cell_type": "code",
   "execution_count": null,
   "metadata": {},
   "outputs": [],
   "source": [
    "import csv\n",
    "import matplotlib.pyplot as plt\n",
    "\n",
    "f = open('seoul.csv','r',encoding='cp949')\n",
    "data = csv.reader(f, delimiter=',')\n",
    "next(data)\n",
    "result = []\n",
    "\n",
    "for row in data :\n",
    "    if row[4] != '' :\n",
    "        result.append(float(row[4]))\n",
    "\n",
    "plt.plot(result, 'r')\n",
    "# plt.figure(figsize = (10,2))\n",
    "plt.rcParams['figure.figsize'] = [10, 2]\n",
    "plt.show()\n",
    "\n",
    "f.close()"
   ]
  },
  {
   "cell_type": "code",
   "execution_count": null,
   "metadata": {},
   "outputs": [],
   "source": [
    "s = 'hello python'\n",
    "print(s.split())\n",
    "\n",
    "date = '1907-10-01'\n",
    "print(date.split('-'))\n",
    "\n",
    "print(date.split('-')[0])\n",
    "print(date.split('-')[1])\n",
    "print(date.split('-')[2])"
   ]
  },
  {
   "cell_type": "code",
   "execution_count": null,
   "metadata": {},
   "outputs": [],
   "source": [
    "import csv\n",
    "import matplotlib.pyplot as plt\n",
    "\n",
    "f = open('seoul.csv','r',encoding='cp949')\n",
    "data = csv.reader(f, delimiter=',')\n",
    "next(data)\n",
    "result = []\n",
    "\n",
    "for row in data :\n",
    "    if row[4] != '' :\n",
    "        if row[2].split('-')[1] == '08' :\n",
    "            result.append(float(row[4]))\n",
    "\n",
    "plt.plot(result, 'hotpink')\n",
    "plt.show()\n",
    "\n",
    "f.close()"
   ]
  },
  {
   "cell_type": "code",
   "execution_count": null,
   "metadata": {},
   "outputs": [],
   "source": [
    "import csv\n",
    "import matplotlib.pyplot as plt\n",
    "\n",
    "f = open('seoul.csv','r',encoding='cp949')\n",
    "data = csv.reader(f, delimiter=',')\n",
    "next(data)\n",
    "result = []\n",
    "\n",
    "for row in data :\n",
    "    if row[4] != '' :\n",
    "        if row[2].split('-')[1] == '01' and row[2].split('-')[2] == '31' :\n",
    "            result.append(float(row[4]))\n",
    "\n",
    "plt.plot(result, 'hotpink')\n",
    "plt.show()\n",
    "\n",
    "f.close()"
   ]
  },
  {
   "cell_type": "code",
   "execution_count": null,
   "metadata": {},
   "outputs": [],
   "source": [
    "import csv\n",
    "import matplotlib.pyplot as plt\n",
    "import matplotlib.font_manager as fm\n",
    "\n",
    "# 그래프에서 마이너스 폰트 깨지는 문제에 대한 대처\n",
    "#plt.rcParams['axes.unicode_minus'] = False\n",
    "\n",
    "f = open('seoul.csv','r',encoding='cp949')\n",
    "data = csv.reader(f, delimiter=',')\n",
    "next(data)\n",
    "high = []\n",
    "low = []\n",
    "\n",
    "for row in data :\n",
    "    if row[4] != '' and row[6] != '' :\n",
    "        if 1983 <= int(row[2].split('-')[0]) :\n",
    "            if row[2].split('-')[1] == '02' and row[2].split('-')[2] == '14' :\n",
    "                high.append(float(row[4]))\n",
    "                low.append(float(row[6]))\n",
    "\n",
    "plt.plot(high, 'hotpink')\n",
    "plt.plot(low, 'skyblue')\n",
    "\n",
    "\n",
    "#for fontlist in fm.fontManager.ttflist :\n",
    "#        print(fontlist)\n",
    "\n",
    "# 나눔고딕 폰트 적용\n",
    "#plt.rcParams[\"font.family\"] = 'NanumGothicCoding'\n",
    "plt.rc('font', family = 'NanumGothicCoding')\n",
    "\n",
    "plt.title('내 생일의 기온 변화 그래프')\n",
    "plt.show()\n",
    "\n",
    "f.close()"
   ]
  },
  {
   "cell_type": "code",
   "execution_count": null,
   "metadata": {},
   "outputs": [],
   "source": [
    "import matplotlib\n",
    "import matplotlib.font_manager\n",
    "\n",
    "font_list = [f.name for f in matplotlib.font_manager.fontManager.ttflist]\n",
    "print(len(font_list))\n",
    "\n",
    "font_list[:50]"
   ]
  },
  {
   "cell_type": "code",
   "execution_count": null,
   "metadata": {},
   "outputs": [],
   "source": [
    "import matplotlib as mpl\n",
    "import matplotlib.pyplot as plt\n",
    "import matplotlib.font_manager as fm\n",
    "\n",
    "# 그래프에서 마이너스 폰트 깨지는 문제에 대한 대처\n",
    "mpl.rcParams['axes.unicode_minus'] = False"
   ]
  },
  {
   "cell_type": "code",
   "execution_count": null,
   "metadata": {},
   "outputs": [],
   "source": [
    "import numpy as np\n",
    "\n",
    "data = np.random.randint(-100, 100, 50).cumsum()\n",
    "data"
   ]
  }
 ],
 "metadata": {
  "kernelspec": {
   "display_name": "Python 3",
   "language": "python",
   "name": "python3"
  },
  "language_info": {
   "codemirror_mode": {
    "name": "ipython",
    "version": 3
   },
   "file_extension": ".py",
   "mimetype": "text/x-python",
   "name": "python",
   "nbconvert_exporter": "python",
   "pygments_lexer": "ipython3",
   "version": "3.6.9"
  }
 },
 "nbformat": 4,
 "nbformat_minor": 4
}
