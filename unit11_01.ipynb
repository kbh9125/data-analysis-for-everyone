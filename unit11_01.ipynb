{
 "cells": [
  {
   "cell_type": "code",
   "execution_count": null,
   "metadata": {},
   "outputs": [],
   "source": [
    "import csv\n",
    "f = open('subwayfee.csv')\n",
    "data = csv.reader(f)\n",
    "\n",
    "next(data)\n",
    "\n",
    "for row in data :\n",
    "    for i in range(4,8) :\n",
    "        row[i] = int(row[i])\n",
    "    print(row)"
   ]
  },
  {
   "cell_type": "code",
   "execution_count": null,
   "metadata": {},
   "outputs": [],
   "source": [
    "import csv\n",
    "f = open('subwayfee.csv')\n",
    "data = csv.reader(f)\n",
    "\n",
    "next(data)\n",
    "mx = 0\n",
    "rate = 0\n",
    "for row in data :\n",
    "    for i in range(4,8) :\n",
    "        row[i] = int(row[i])\n",
    "    if row[6] != 0 :\n",
    "        rate = row[4] / row[6]\n",
    "        if rate > mx :\n",
    "            mx = rate\n",
    "            print(row, round(rate,2))\n",
    "print(mx)"
   ]
  },
  {
   "cell_type": "code",
   "execution_count": null,
   "metadata": {},
   "outputs": [],
   "source": [
    "import csv\n",
    "f = open('subwayfee.csv')\n",
    "data = csv.reader(f)\n",
    "\n",
    "next(data)\n",
    "mx = 0\n",
    "rate = 0\n",
    "for row in data :\n",
    "    for i in range(4,8) :\n",
    "        row[i] = int(row[i])\n",
    "    if row[6] != 0 and (row[4] + row[6]) > 100000 :\n",
    "        rate = row[4] / (row[4] + row[6])\n",
    "        if rate > 0.94 :\n",
    "            mx = rate\n",
    "            print(row, round(rate,3))\n",
    "print(mx)"
   ]
  },
  {
   "cell_type": "code",
   "execution_count": null,
   "metadata": {},
   "outputs": [],
   "source": [
    "import csv\n",
    "f = open('subwayfee.csv')\n",
    "data = csv.reader(f)\n",
    "\n",
    "next(data)\n",
    "mx = 0\n",
    "rate = 0\n",
    "mx_station = ''\n",
    "\n",
    "for row in data :\n",
    "    for i in range(4,8) :\n",
    "        row[i] = int(row[i])\n",
    "    if row[6] != 0 and (row[4] + row[6]) > 100000 :\n",
    "        rate = row[4] / (row[4] + row[6])\n",
    "        if rate > mx :\n",
    "            mx = rate\n",
    "            mx_station = row[3] + ' ' + row[1]\n",
    "print(mx_station, round(mx * 100,2))"
   ]
  },
  {
   "cell_type": "code",
   "execution_count": null,
   "metadata": {},
   "outputs": [],
   "source": [
    "import csv\n",
    "f = open('subwayfee.csv')\n",
    "data = csv.reader(f)\n",
    "\n",
    "next(data)\n",
    "\n",
    "mx = [0] * 4\n",
    "mx_station = [''] * 4\n",
    "label = ['유임승차','유임하차','무임승차','무임하차']\n",
    "\n",
    "for row in data :\n",
    "    for i in range(4,8) :\n",
    "        row[i] = int(row[i])\n",
    "        if row[i] > mx[i-4] :\n",
    "            mx[i-4] = row[i]\n",
    "            mx_station[i-4] = row[3] + ' ' + row[1]\n",
    "\n",
    "for i in range(4) :\n",
    "    print(label[i] + ': ' + mx_station[i], mx[i])"
   ]
  },
  {
   "cell_type": "code",
   "execution_count": null,
   "metadata": {},
   "outputs": [],
   "source": [
    "import csv\n",
    "import matplotlib.pyplot as plt\n",
    "\n",
    "f = open('subwayfee.csv')\n",
    "data = csv.reader(f)\n",
    "\n",
    "next(data)\n",
    "\n",
    "label = ['유임승차','유임하차','무임승차','무임하차']\n",
    "\n",
    "for row in data :\n",
    "    for i in range(4,8) :\n",
    "        row[i] = int(row[i])\n",
    "    plt.pie(row[4:8])\n",
    "    plt.axis('equal')\n",
    "    plt.show()"
   ]
  },
  {
   "cell_type": "code",
   "execution_count": null,
   "metadata": {},
   "outputs": [],
   "source": [
    "import csv\n",
    "import matplotlib.pyplot as plt\n",
    "\n",
    "f = open('subwayfee.csv')\n",
    "data = csv.reader(f)\n",
    "\n",
    "next(data)\n",
    "\n",
    "label = ['유임승차','유임하차','무임승차','무임하차']\n",
    "c = ['#14CCC0','#389993','#FF1C6A','#CC14AF']\n",
    "plt.rc('font', family = 'NanumGothicCoding')\n",
    "\n",
    "for row in data :\n",
    "    for i in range(4,8) :\n",
    "        row[i] = int(row[i])\n",
    "    plt.figure(dpi = 300)\n",
    "    plt.title(row[3] + ' ' + row[1])\n",
    "    plt.pie(row[4:8], labels = label, colors = c, autopct = '%.1f%%')\n",
    "    plt.axis('equal')\n",
    "    #plt.savefig(row[3] + '_' + row[1]+'.png')\n",
    "    plt.show()"
   ]
  },
  {
   "cell_type": "code",
   "execution_count": null,
   "metadata": {},
   "outputs": [],
   "source": []
  }
 ],
 "metadata": {
  "kernelspec": {
   "display_name": "Python 3",
   "language": "python",
   "name": "python3"
  },
  "language_info": {
   "codemirror_mode": {
    "name": "ipython",
    "version": 3
   },
   "file_extension": ".py",
   "mimetype": "text/x-python",
   "name": "python",
   "nbconvert_exporter": "python",
   "pygments_lexer": "ipython3",
   "version": "3.6.9"
  }
 },
 "nbformat": 4,
 "nbformat_minor": 4
}
